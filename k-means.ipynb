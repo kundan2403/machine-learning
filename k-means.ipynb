{
  "nbformat": 4,
  "nbformat_minor": 0,
  "metadata": {
    "colab": {
      "provenance": [],
      "mount_file_id": "1IkRAu6G_xbKDXuYjoRNpRwc3nFsAQYrz",
      "authorship_tag": "ABX9TyNgDaeQnLhh2Gq2e1lpaJ1I",
      "include_colab_link": true
    },
    "kernelspec": {
      "name": "python3",
      "display_name": "Python 3"
    },
    "language_info": {
      "name": "python"
    }
  },
  "cells": [
    {
      "cell_type": "markdown",
      "metadata": {
        "id": "view-in-github",
        "colab_type": "text"
      },
      "source": [
        "<a href=\"https://colab.research.google.com/github/kundan2403/ml-algo/blob/main/k-means.ipynb\" target=\"_parent\"><img src=\"https://colab.research.google.com/assets/colab-badge.svg\" alt=\"Open In Colab\"/></a>"
      ]
    },
    {
      "cell_type": "markdown",
      "source": [
        "# ML clustring algo"
      ],
      "metadata": {
        "id": "fmBfcV2jzEBj"
      }
    },
    {
      "cell_type": "markdown",
      "source": [
        "# K-Means\n",
        "Clustering is one of the most widely used unsupervised machine learning algorithms for partitioning a dataset into groups, or clusters, based on similarity."
      ],
      "metadata": {
        "id": "HJvz7wHJzZlD"
      }
    },
    {
      "cell_type": "markdown",
      "source": [
        "Initialization:\n",
        "\n",
        "1. Choose the number of clusters  K you want to\n",
        "   partition the dataset into.\n",
        "   \n",
        "2. Randomly initialize  K centroids, which are points\n",
        "   that represent the center of each cluster. These centroids can be randomly selected from the dataset or initialized in any other way.\n",
        "\n",
        "\n",
        "\n",
        "\n"
      ],
      "metadata": {
        "id": "LXjnSu6CzxtK"
      }
    },
    {
      "cell_type": "markdown",
      "source": [
        "\n",
        "Assign Points to Clusters\n",
        "\n",
        "1. For each data point in the dataset, calculate its distance to each centroid. The distance measure commonly used is the Euclidean distance, although other distance measures can be used as well.\n",
        "\n",
        "2. Assign each data point to the cluster whose centroid is closest (i.e., has the smallest distance).  \n",
        "\n"
      ],
      "metadata": {
        "id": "r95tL0Ux0UwN"
      }
    },
    {
      "cell_type": "markdown",
      "source": [
        " Update Centroids\n",
        "\n",
        "1.  After assigning all data points to clusters,  \n",
        "    update the centroids of each cluster.\n",
        "2. Compute the mean of all data points assigned to each cluster. This mean becomes the new centroid of the cluster.  \n",
        "\n"
      ],
      "metadata": {
        "id": "glnZKb_h02OP"
      }
    },
    {
      "cell_type": "markdown",
      "source": [
        "Repeat\n",
        "\n",
        "Repeat steps 2 and 3 until convergence criteria are met. Common convergence criteria include\n",
        "1. Centroids do not change significantly between iterations.   \n",
        "2. Maximum number of iterations is reached.\n",
        "\n"
      ],
      "metadata": {
        "id": "EnFBJ1no1OHh"
      }
    },
    {
      "cell_type": "markdown",
      "source": [
        "Convergence\n",
        "\n",
        "1. Convergence occurs when the centroids stabilize, i.e., when they stop changing significantly between iterations. At this point, the algorithm has reached a stable configuration, and the clusters have been formed.\n",
        "\n"
      ],
      "metadata": {
        "id": "SVkGp56N2akv"
      }
    },
    {
      "cell_type": "markdown",
      "source": [
        "Final Result\n",
        "\n",
        "1. After convergence, the algorithm has partitioned the dataset into\n",
        "   K clusters, and each data point belongs to exactly one cluster.\n",
        "\n",
        "2. The centroids represent the center of each cluster and can be used for\n",
        "   further analysis or interpretation of the clusters.\n",
        "\n",
        "\n"
      ],
      "metadata": {
        "id": "yr4kX4F886D-"
      }
    },
    {
      "cell_type": "code",
      "source": [
        "import numpy as np\n",
        "import pandas as pd\n",
        "import matplotlib.pyplot as plt\n",
        "\n",
        "# Load the Iris dataset\n",
        "iris_df = pd.read_csv(\"/content/data/Iris.csv\")\n",
        "X = iris_df.iloc[:, 1:-1].values  # Features\n",
        "y = iris_df.iloc[:, 1:-1].values   # Target\n",
        "\n",
        "# Number of clusters\n",
        "k = 3\n",
        "\n",
        "# Function to calculate Euclidean distance\n",
        "def euclidean_distance(point1, point2):\n",
        "    return np.sqrt(np.sum((point1 - point2)**2))\n",
        "\n",
        "# Function to initialize centroids randomly\n",
        "def initialize_centroids(data, k):\n",
        "    centroids = []\n",
        "    for _ in range(k):\n",
        "        centroid = data[np.random.choice(range(len(data)))]\n",
        "        centroids.append(centroid)\n",
        "    return np.array(centroids)\n",
        "\n",
        "# Function to assign each data point to the nearest centroid\n",
        "def assign_clusters(data, centroids):\n",
        "    clusters = []\n",
        "    for point in data:\n",
        "        distances = [euclidean_distance(point, centroid) for centroid in centroids]\n",
        "        cluster = np.argmin(distances)\n",
        "        clusters.append(cluster)\n",
        "    return np.array(clusters)\n",
        "\n",
        "# Function to update centroids based on the mean of data points in each cluster\n",
        "def update_centroids(data, clusters, k):\n",
        "    new_centroids = []\n",
        "    for i in range(k):\n",
        "        cluster_points = [data[j] for j in range(len(data)) if clusters[j] == i]\n",
        "        new_centroid = np.mean(cluster_points, axis=0)\n",
        "        new_centroids.append(new_centroid)\n",
        "    return np.array(new_centroids)\n",
        "\n",
        "# K-Means algorithm\n",
        "def k_means(data, k):\n",
        "    centroids = initialize_centroids(data, k)\n",
        "    iter = 0\n",
        "    converged = False\n",
        "    sse = 0\n",
        "\n",
        "    while not converged:\n",
        "        iter += 1\n",
        "        old_centroids = centroids.copy()\n",
        "\n",
        "        # Assign data points to the nearest centroid\n",
        "        clusters = assign_clusters(data, centroids)\n",
        "\n",
        "        # Update centroids based on the mean of data points in each cluster\n",
        "        centroids = update_centroids(data, clusters, k)\n",
        "\n",
        "        # Check for convergence\n",
        "        converged = np.array_equal(old_centroids, centroids)\n",
        "\n",
        "    # Calculate SSE\n",
        "    for i in range(k):\n",
        "        cluster_points = data[clusters == i]\n",
        "        sse += np.sum((cluster_points - centroids[i])**2)\n",
        "\n",
        "    return clusters, centroids, sse\n",
        "\n",
        "# Run K-Means clustering\n",
        "kmeans_clusters, kmeans_centroids, kmeans_sse = k_means(X, k)\n",
        "\n",
        "print(kmeans_centroids)\n",
        "\n",
        "# Plot K-Means clusters\n",
        "colors = ['r', 'g', 'b']\n",
        "plt.figure(figsize=(8, 6))\n",
        "for i in range(k):\n",
        "    cluster_points = X[kmeans_clusters == i]\n",
        "    _, counts = np.unique(kmeans_clusters, return_counts=True)\n",
        "    plt.scatter(cluster_points[:, 0], cluster_points[:, 1], c=colors[i], label=f'Cluster {i+1} - { counts[i] }')\n",
        "    plt.scatter(kmeans_centroids[i, 0], kmeans_centroids[i, 1], marker='*', color='black', s=150)\n",
        "plt.title('K-Means Clustering')\n",
        "plt.xlabel('Sepal Length')\n",
        "plt.ylabel('Sepal Width')\n",
        "plt.legend()\n",
        "plt.show()\n",
        "print(\"K-Means SSE:\", kmeans_sse)\n",
        "\n"
      ],
      "metadata": {
        "colab": {
          "base_uri": "https://localhost:8080/",
          "height": 633
        },
        "id": "tkpKuZVenSfe",
        "outputId": "e93bfe5f-68c9-4f60-969b-396a7af8c648"
      },
      "execution_count": 37,
      "outputs": [
        {
          "output_type": "stream",
          "name": "stdout",
          "text": [
            "[[6.30103093 2.88659794 4.95876289 1.69587629]\n",
            " [4.77586207 3.07241379 1.62068966 0.29655172]\n",
            " [5.28333333 3.70833333 1.49166667 0.27916667]]\n"
          ]
        },
        {
          "output_type": "display_data",
          "data": {
            "text/plain": [
              "<Figure size 800x600 with 1 Axes>"
            ],
            "image/png": "[encoded data removed]"
          },
          "metadata": {}
        },
        {
          "output_type": "stream",
          "name": "stdout",
          "text": [
            "K-Means SSE: 143.4537354840621\n"
          ]
        }
      ]
    }
  ]
}